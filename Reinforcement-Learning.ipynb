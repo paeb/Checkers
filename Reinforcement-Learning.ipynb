{
 "cells": [
  {
   "cell_type": "code",
   "execution_count": null,
   "metadata": {},
   "outputs": [],
   "source": [
    "# Q-Learning Exercise\n",
    "\n",
    "# To find the best action given the current state\n",
    "\n",
    "# It's \"off-policy\" because it can take random actions to find the optimal policy"
   ]
  },
  {
   "cell_type": "code",
   "execution_count": null,
   "metadata": {},
   "outputs": [],
   "source": [
    "import numpy as np\n",
    "import random\n",
    "\n",
    "Q = np.zeros((state_size,action_size)) # Q-matrix; row = state, column = action\n",
    "\n",
    "epsilon = 0.2 # percentage that we will explore\n",
    "\n",
    "if random.uniform(0, 1) < epsilon: # exploring (TRYING A RANDOM ACTION)\n",
    "    # select a random action\n",
    "    pass\n",
    "else: # exploiting (TRYING THE BEST ACTION)\n",
    "    # select the best action\n",
    "    pass\n",
    "\n",
    "# update the initial Q matrix AFTER EACH ACTION\n",
    "\n",
    "Q[state,action] = Q[state,action] + lr * (reward + gamma * np.max(Q[new_state,:]) - Q[state:action])\n",
    "\n",
    "\n"
   ]
  }
 ],
 "metadata": {
  "language_info": {
   "name": "python"
  },
  "orig_nbformat": 4
 },
 "nbformat": 4,
 "nbformat_minor": 2
}
